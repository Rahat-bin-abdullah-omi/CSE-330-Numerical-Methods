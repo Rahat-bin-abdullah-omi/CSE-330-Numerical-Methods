{
 "cells": [
  {
   "cell_type": "markdown",
   "metadata": {
    "colab_type": "text",
    "id": "Lx42-igk_rae"
   },
   "source": [
    "# CSE 330 Numerical Analysis Lab \n",
    "\n",
    "### Lab 4\n",
    "\n",
    "### Instructions\n",
    "---\n",
    "\n",
    "\n",
    "In this week we will learn a little about numpy polynomial module (`numpy.polynomial`). After that we will do two assignment using this Polynomial class. \n",
    "\n",
    "Todays assignments are:\n",
    "1. Implement Hermite Interpolation using Python\n",
    "2. Implement forward, backward and central differentiaton using python and finding error.\n",
    "\n",
    "But before we start let’s take a look at numpy polynomial module.\n",
    "\n",
    "### `numpy.polynomial`\n",
    "---\n",
    "\n",
    "In mathematics polynomials are of form,\n",
    "\n",
    "$$f(x)=a_0+a_1 x+a_2 x^2 + a_3 x^3 + ⋯ + a_n x^n \\tag{4.1}$$\n",
    "\n",
    "Numpy provide a class named Ploynmial in it’s numpy.polynomial module. We can initialize a polynomial by passing the coefficients as an array."
   ]
  },
  {
   "cell_type": "code",
   "execution_count": null,
   "metadata": {
    "colab": {
     "base_uri": "https://localhost:8080/",
     "height": 34
    },
    "colab_type": "code",
    "id": "IpufTCYz_lh-",
    "outputId": "c841bfdc-9916-45e4-846f-a696b3689033"
   },
   "outputs": [],
   "source": [
    "import numpy as np\n",
    "from numpy.polynomial import Polynomial\n",
    "\n",
    "p1 = Polynomial([1,2,3])    # 1 + 2x + 3x^2\n",
    "p1"
   ]
  },
  {
   "cell_type": "markdown",
   "metadata": {
    "colab_type": "text",
    "id": "IBmmvxVsAv0I"
   },
   "source": [
    "Here the variable p1 represents the following equation,\n",
    "\n",
    "$$x \\mapsto \\text{1.0} + \\text{2.0}\\,x + \\text{3.0}\\,x^{2}$$\n",
    "\n",
    "We can also use a numpy array to initialize the polynomial. For example,"
   ]
  },
  {
   "cell_type": "code",
   "execution_count": null,
   "metadata": {
    "colab": {
     "base_uri": "https://localhost:8080/",
     "height": 34
    },
    "colab_type": "code",
    "id": "YtOVxZGoBMK3",
    "outputId": "15933c4b-2874-41a6-b827-ca1ecda89f05"
   },
   "outputs": [],
   "source": [
    "coeff = np.array([-5,0,2,1])\n",
    "p2 = Polynomial(coeff)\n",
    "p2"
   ]
  },
  {
   "cell_type": "markdown",
   "metadata": {
    "colab_type": "text",
    "id": "5e3VcM6iBi7S"
   },
   "source": [
    "Here p2 represents the following equation,\n",
    "\n",
    "$$x \\mapsto \\text{-5.0}\\color{LightGray}{ + \\text{0.0}\\,x} + \\text{2.0}\\,x^{2} + \\text{1.0}\\,x^{3}$$\n",
    "\n",
    "We can also call the polynomial as a function of x, i.e. $p1(x)$. For example,"
   ]
  },
  {
   "cell_type": "code",
   "execution_count": null,
   "metadata": {
    "colab": {
     "base_uri": "https://localhost:8080/",
     "height": 67
    },
    "colab_type": "code",
    "id": "u-ASkNJeCEF6",
    "outputId": "1f8b97cc-f323-4670-98b5-fe076b588593"
   },
   "outputs": [],
   "source": [
    "print(\"p1(0.0) = \", p1(0.0))\n",
    "print(\"p1(1.0) = \", p1(1.0))\n",
    "print(\"p1(2.0) = \", p1(2.0))"
   ]
  },
  {
   "cell_type": "markdown",
   "metadata": {
    "colab_type": "text",
    "id": "EvxhJaGqCql-"
   },
   "source": [
    "We can also pass variables in the polynomial function,\n"
   ]
  },
  {
   "cell_type": "code",
   "execution_count": null,
   "metadata": {
    "colab": {
     "base_uri": "https://localhost:8080/",
     "height": 34
    },
    "colab_type": "code",
    "id": "bXYTLvx-Cu2k",
    "outputId": "a4f11d91-ad1c-4f82-942b-438ba3826e2a"
   },
   "outputs": [],
   "source": [
    "x = 3\n",
    "y = p1(x)\n",
    "print(\"p1(x) = \", y)"
   ]
  },
  {
   "cell_type": "markdown",
   "metadata": {
    "colab_type": "text",
    "id": "m4UYyJf7C7EI"
   },
   "source": [
    "Althogh, you might sometimes need to calculate the $Y$-values for a lot of different $X$-values at a time. Howver, passing an array with give you an error."
   ]
  },
  {
   "cell_type": "code",
   "execution_count": null,
   "metadata": {
    "colab": {
     "base_uri": "https://localhost:8080/",
     "height": 313
    },
    "colab_type": "code",
    "id": "mSh8Olb7DM07",
    "outputId": "b15c8927-4c72-490a-fa39-b1781d80948f"
   },
   "outputs": [],
   "source": [
    "x = [1,2,3]\n",
    "y = p1(x)\n",
    "print(y)"
   ]
  },
  {
   "cell_type": "markdown",
   "metadata": {
    "colab_type": "text",
    "id": "hYWwsvjRDQ7R"
   },
   "source": [
    "Numpy array can come to your rescue in this case,"
   ]
  },
  {
   "cell_type": "code",
   "execution_count": null,
   "metadata": {
    "colab": {
     "base_uri": "https://localhost:8080/",
     "height": 34
    },
    "colab_type": "code",
    "id": "fOLiQwmiDUnH",
    "outputId": "a7e7d9da-ce29-4b8a-c9bf-0f53b58c0c36"
   },
   "outputs": [],
   "source": [
    "x = np.array([1,2,3])\n",
    "y = p1(x)\n",
    "print(y)"
   ]
  },
  {
   "cell_type": "markdown",
   "metadata": {
    "colab_type": "text",
    "id": "RYYH7F9dDoIT"
   },
   "source": [
    "You can also run arithmatic operations on the polynomials. for example,\n",
    "\n",
    "\\begin{align}\n",
    "y = p1(x) &= 9 + 2 x - 2.5 \\times x^3 \\\\\n",
    "y = p2(x) &= 6 + 3.5 \\times x + 1.9 \\times x^2 \\\\\n",
    "y = p1(x) + p2(x) &= 15 + 5.5 \\times x + 1.9 \\times x^2 - 2.5 \\times x^3\n",
    "\\end{align}"
   ]
  },
  {
   "cell_type": "code",
   "execution_count": null,
   "metadata": {
    "colab": {
     "base_uri": "https://localhost:8080/",
     "height": 34
    },
    "colab_type": "code",
    "id": "r0HcMM6iE13v",
    "outputId": "a3ee194e-c96d-4619-ed60-9ba9bc229188"
   },
   "outputs": [],
   "source": [
    "p1 = Polynomial([9.0, 2.0, 0.0, -2.5])\n",
    "p2 = Polynomial([6.0, 3.5, 1.9])\n",
    "\n",
    "p3 = p1+p2\n",
    "p3"
   ]
  },
  {
   "cell_type": "markdown",
   "metadata": {
    "colab_type": "text",
    "id": "yGxp6dgmFKGx"
   },
   "source": [
    "Here $p3$ represents the following equation,\n",
    "$$x \\mapsto \\text{15.0} + \\text{5.5}\\,x + \\text{1.9}\\,x^{2} - \\text{2.5}\\,x^{3}$$\n",
    "\n",
    "Similarly you can multiply polynomials too. For example,\n",
    "\\begin{align}\n",
    "g(x) &= -1 + x \\\\\n",
    "h(x) &= 6 + 5\\times x+x^2 \\\\\n",
    "g(x)\\times h(x) &= -6 + x + 4 x^2 + x^3\n",
    "\\end{align}"
   ]
  },
  {
   "cell_type": "code",
   "execution_count": null,
   "metadata": {
    "colab": {
     "base_uri": "https://localhost:8080/",
     "height": 34
    },
    "colab_type": "code",
    "id": "I9AMnIN9HiXv",
    "outputId": "73ffaafa-abc1-4465-a364-6d233082a1bd"
   },
   "outputs": [],
   "source": [
    "g = Polynomial([-1, 1])\n",
    "h = Polynomial([6, 5, 1])\n",
    "\n",
    "p = g*h\n",
    "display(p)"
   ]
  },
  {
   "cell_type": "markdown",
   "metadata": {
    "colab_type": "text",
    "id": "_j417TErIAPK"
   },
   "source": [
    "Here $p$ represents the following polynomial,\n",
    "$x \\mapsto \\text{-6.0} + \\text{1.0}\\,x + \\text{4.0}\\,x^{2} + \\text{1.0}\\,x^{3}$\n",
    "\n",
    "You can also find roots for a polynomial."
   ]
  },
  {
   "cell_type": "code",
   "execution_count": null,
   "metadata": {
    "colab": {
     "base_uri": "https://localhost:8080/",
     "height": 34
    },
    "colab_type": "code",
    "id": "5QbSQQWPIMg7",
    "outputId": "59fea158-d4c5-4719-82ce-fbc4c593fc05"
   },
   "outputs": [],
   "source": [
    "f = Polynomial([6, -5, 1]) # 6 - 5x + x^2\n",
    "f.roots()"
   ]
  },
  {
   "cell_type": "markdown",
   "metadata": {
    "colab_type": "text",
    "id": "v82C_vkCIsk_"
   },
   "source": [
    "To find the derivative of a function you can use deriv function."
   ]
  },
  {
   "cell_type": "code",
   "execution_count": null,
   "metadata": {
    "colab": {
     "base_uri": "https://localhost:8080/",
     "height": 50
    },
    "colab_type": "code",
    "id": "gWxd2KLeI27N",
    "outputId": "bf44b9f3-5fad-4753-894a-62b6938805fc"
   },
   "outputs": [],
   "source": [
    "f = Polynomial([6, -5, 1]) # 6 - 5x + x^2\n",
    "\n",
    "df = f.deriv(1) # -5 + 2x\n",
    "display(df)\n",
    "\n",
    "ddf = f.deriv(2) # 2\n",
    "display(ddf)"
   ]
  },
  {
   "cell_type": "markdown",
   "metadata": {
    "colab_type": "text",
    "id": "Hr8g4ynuJRZz"
   },
   "source": [
    "Here, $df$ represensts the polynomial, $x \\mapsto \\text{-5.0} + \\text{2.0}\\,x$, and $ddf$ represenst the polynomial, $x \\mapsto \\text{2.0}$\n",
    "\n",
    "Let's move on to todays assignment.\n",
    "\n",
    "## Assignment 1: Hermite Interpolation\n",
    "---\n",
    "If you recall your class lecture you might remember *Hermite interpolation*. If you have $n+1$ data points, $(x_0, y_0), (x_1, y_1), x_2, y_2), ... (x_n, y_n)$ and you happen to know the first-order ferivative at all of these points, namely, $(x_0, y_0 ^\\prime ), (x_1, y_1 ^\\prime ), x_2, y_2 ^\\prime ), ... (x_n, y_n ^\\prime )$, Accorrding to hermit interpolation you can fit a polynomial of order $2n-1$.\n",
    "\n",
    "$$p_{2n+1} = \\sum_{k=0}^{n}{f(x_K)h_k(x)+f^\\prime (x_k)\\hat{h_k}(x)}\\tag{4.2}$$\n",
    "where $h_k$ and $\\hat{h_k}$ are defined by Lagrange basis functions,\n",
    "$$h_k(x) = (1-2(x-x_k)l^\\prime_k(x_k))l^2_k(x_k) \\tag{4.3}$$\n",
    "and,\n",
    "$$\\hat{h_k}(x) = (x-x_k)l^2_k(x_k) \\tag{4.4}$$\n",
    "\n",
    "For this assignment you will be provided with the following skeleton code."
   ]
  },
  {
   "cell_type": "markdown",
   "metadata": {
    "colab_type": "text",
    "id": "rRFoLDDmQTOD"
   },
   "source": [
    "Here, method `l`, `h` and `h_hat` calculates the corresponding $l_k$, $h_k$ and $\\hat{h_k}$.\n",
    "\n",
    "Note that, we can rewrite equation 4.3 in this way,\n",
    "\\begin{align}\n",
    "h_k(x) &= (1-2(x-x_k)l^\\prime_k(x_k))l^2_k(x_k) \\\\\n",
    "&= (1 - 2xl^\\prime_k(x_k) + 2x_kl^\\prime_k(x_k))l^2_k(x_k)\n",
    "\\end{align}\n",
    "Replacing, $l^\\prime_k(x_k)$ with $m$ we get,\n",
    "$$h_k(x) = (1 - 2xm + 2x_km)l^2_k(x_k) \\tag{4.5}$$\n",
    "\n",
    "Equation 4.5 is basically becomes a multiplication of two polynomials.\n",
    "\n",
    "### Task\n",
    "\n",
    "method `l` has already been defined for you. Your task is to complete the `h`, `h_hat` and `hermit` method.\n",
    "\n",
    "Later we will draw some plots to check if the code is working."
   ]
  },
  {
   "cell_type": "code",
   "execution_count": 0,
   "metadata": {
    "colab": {},
    "colab_type": "code",
    "id": "tsuRKDB1QOv3"
   },
   "outputs": [],
   "source": [
    "import numpy as np\n",
    "import matplotlib.pyplot as plt\n",
    "from itertools import combinations \n",
    "from numpy.polynomial import Polynomial\n",
    "\n",
    "def l(k, x):\n",
    "    n = len(x)\n",
    "    assert (k < len(x))\n",
    "    \n",
    "    x_k = x[k]\n",
    "    x_copy = np.delete(x, k)\n",
    "    \n",
    "    denominator = np.prod(x_copy - x_k)\n",
    "    \n",
    "    coeff = []\n",
    "    \n",
    "    for i in range(n):\n",
    "        coeff.append(sum([np.prod(x) for x in combinations(x_copy, i)]) * (-1)**(i) / denominator)\n",
    "    \n",
    "    coeff.reverse()\n",
    "    \n",
    "    return Polynomial(coeff)\n",
    "\n",
    "def h(k, x):\n",
    "    l_k = l(k,x)\n",
    "    l_k_sqr = l_k*l_k\n",
    "    l_k_prime = l(k,x).deriv(1)\n",
    "    coeff = [1+2*x[k]*l_k_prime(x[k]),-2*l_k_prime(x[k])]\n",
    "    p = Polynomial(coeff)\n",
    "    \n",
    "    return p * l_k_sqr\n",
    "\n",
    "def h_hat(k, x):\n",
    "    l_k = l(k,x)\n",
    "    l_k_sqr = l_k*l_k\n",
    "    coeff = [-x[k],1]\n",
    "    p = Polynomial(coeff)\n",
    "    \n",
    "    return p * l_k_sqr\n",
    "\n",
    "def hermit(x, y, y_prime):\n",
    "    assert( len(x) == len(y))\n",
    "    assert( len(y) == len(y_prime))\n",
    "    \n",
    "    f = Polynomial([0.0])\n",
    "    for i in range(len(x)):\n",
    "         f =f+y[i]*h(i,x)+y_prime[i]*h_hat(i,x)\n",
    "        \n",
    "    return f"
   ]
  },
  {
   "cell_type": "code",
   "execution_count": null,
   "metadata": {
    "colab": {
     "base_uri": "https://localhost:8080/",
     "height": 1000
    },
    "colab_type": "code",
    "id": "7oefzhkJT9BM",
    "outputId": "5897016c-987a-4ed6-ebd3-223c9ade627c"
   },
   "outputs": [],
   "source": [
    "pi = np.pi\n",
    "\n",
    "x       = np.array([0.0, pi/2.0,  pi, 3.0*pi/2.0])\n",
    "y       = np.array([0.0,    1.0, 0.0,       -1.0])\n",
    "y_prime = np.array([1.0,    0.0, 1.0,        0.0])\n",
    "\n",
    "\n",
    "n = 1\n",
    "f3     = hermit(x[:(n+1)], y[:(n+1)], y_prime[:(n+1)])\n",
    "data   = f3.linspace(n=50, domain=[-3, 3])\n",
    "test_x = np.linspace(-3, 3, 50, endpoint=True)\n",
    "test_y = np.sin(test_x)\n",
    "\n",
    "plt.plot(data[0], data[1])\n",
    "plt.plot(test_x, test_y)\n",
    "plt.show()\n",
    "\n",
    "n = 2\n",
    "f5     = hermit(x[:(n+1)], y[:(n+1)], y_prime[:(n+1)])\n",
    "data   = f5.linspace(n=50, domain=[-0.7, 3])\n",
    "test_x = np.linspace(-2*pi, 2*pi, 50, endpoint=True)\n",
    "test_y = np.sin(test_x)\n",
    "\n",
    "plt.plot(test_x, test_y)\n",
    "plt.plot(data[0], data[1])\n",
    "plt.show()\n",
    "\n",
    "n = 3\n",
    "f7     = hermit(x[:(n+1)], y[:(n+1)], y_prime[:(n+1)])\n",
    "data   = f7.linspace(n=50, domain=[-0.3, 3])\n",
    "test_x = np.linspace(-2*pi, 2*pi, 50, endpoint=True)\n",
    "test_y = np.sin(test_x)\n",
    "\n",
    "plt.plot(data[0], data[1])\n",
    "plt.plot(test_x, test_y)\n",
    "plt.show()\n",
    "\n",
    "\n",
    "x       = np.array([0.0, 1.0,          2.0       ])\n",
    "y       = np.array([1.0, 2.71828183,  54.59815003])\n",
    "y_prime = np.array([0.0, 5.43656366, 218.39260013])\n",
    "f7      = hermit( x, y, y_prime)\n",
    "data    = f7.linspace(n=50, domain=[-0.5, 2.2])\n",
    "test_x  = np.linspace(-0.5, 2.2, 50, endpoint=True)\n",
    "test_y  = np.exp(test_x**2)\n",
    "\n",
    "plt.plot(data[0], data[1])\n",
    "plt.plot(test_x, test_y)\n",
    "plt.show()\n",
    "\n",
    "x       = np.array([1.0, 3.0, 5.0])\n",
    "y       = np.array([5.0, 1.0, 5.0])\n",
    "y_prime = np.array([-4.0, 0.0, 4.0])\n",
    "f7      = hermit( x, y, y_prime)\n",
    "data    = f7.linspace(n=50, domain=[-10, 10])\n",
    "test_x  = np.linspace(-10, 10, 50, endpoint=True)\n",
    "test_y  = (test_x-3)**2 + 1\n",
    "\n",
    "plt.plot(data[0], data[1])\n",
    "plt.plot(test_x, test_y)\n",
    "plt.show()"
   ]
  },
  {
   "cell_type": "markdown",
   "metadata": {
    "colab_type": "text",
    "id": "MbBfc_txUG6E"
   },
   "source": [
    "## Assignment 2: Differentiation\n",
    "\n",
    "We have already learnt about *forward differentiation*, *backward diferentiation* and *central differentiation*. In this part of the assignment we will write methods to calculate this values and check how they perform.\n",
    "\n",
    "The equations are as follows,\n",
    "\n",
    "\\begin{align}\n",
    "\\text{forward differentiation}, f^\\prime(x) = \\frac{f(x+h)-f(x)}{h} \\tag{4.6} \\\\\n",
    "\\text{backward differentiation}, f^\\prime(x) = \\frac{f(x)-f(x-h)}{h} \\tag{4.7} \\\\\n",
    "\\text{central differentiation}, f^\\prime(x) = \\frac{f(x+h)-f(x-h)}{2h} \\tag{4.8}\n",
    "\\end{align}\n",
    "\n",
    "you will be provided with a skeleton code."
   ]
  },
  {
   "cell_type": "code",
   "execution_count": 14,
   "metadata": {
    "colab": {},
    "colab_type": "code",
    "id": "tlT3j_EgUgjL"
   },
   "outputs": [],
   "source": [
    "import numpy as np\n",
    "import matplotlib.pyplot as plt\n",
    "from numpy.polynomial import Polynomial\n",
    "\n",
    "def forward_diff(f, h, x):\n",
    "    return ((f(x+h)-f(x))/h)\n",
    "\n",
    "def backward_diff(f, h, x):\n",
    "    return (f(x)-f(x-h))/h\n",
    "\n",
    "def central_diff(f, h, x):\n",
    "    return (f(x+h)-f(x-h))/2*h\n",
    "\n",
    "def error(f, f_prime, h, x):\n",
    "    Y_correct = f_prime(x)\n",
    "    f_error = np.array([])\n",
    "    b_error = np.array([])\n",
    "    c_error = np.array([])\n",
    "    \n",
    "    for h_i in h:\n",
    "        f_error=np.append(f_error,Y_correct-forward_diff(f, h_i, x))\n",
    "        b_error=np.append(b_error,Y_correct-backward_diff(f, h_i, x))\n",
    "        c_error=np.append(c_error,Y_correct-central_diff(f, h_i, x))\n",
    "    \n",
    "    return f_error, b_error, c_error"
   ]
  },
  {
   "cell_type": "markdown",
   "metadata": {
    "colab_type": "text",
    "id": "s-Kdj8zfUm-8"
   },
   "source": [
    "Here, `forward_diff`, `backward_diff` and `central_diff` calculates the *forward differentiation*, *backward differentiation* and *central differentiation* respectively. finally the `error` method calculates the different values for various $h$ and returns the errors.\n",
    "\n",
    "Later we will run some code to test out performance,"
   ]
  },
  {
   "cell_type": "code",
   "execution_count": 15,
   "metadata": {
    "colab": {
     "base_uri": "https://localhost:8080/",
     "height": 1000
    },
    "colab_type": "code",
    "id": "Hv6GfMIxWIUi",
    "outputId": "d23d590f-e3ee-4064-fd4a-b51c3860390e"
   },
   "outputs": [
    {
     "ename": "AttributeError",
     "evalue": "'numpy.ndarray' object has no attribute 'append'",
     "output_type": "error",
     "traceback": [
      "\u001b[0;31m---------------------------------------------------------------------------\u001b[0m",
      "\u001b[0;31mAttributeError\u001b[0m                            Traceback (most recent call last)",
      "\u001b[0;32m<ipython-input-15-ee2c9ba98b09>\u001b[0m in \u001b[0;36m<module>\u001b[0;34m\u001b[0m\n\u001b[1;32m     75\u001b[0m \u001b[0;34m\u001b[0m\u001b[0m\n\u001b[1;32m     76\u001b[0m \u001b[0mh\u001b[0m \u001b[0;34m=\u001b[0m \u001b[0mnp\u001b[0m\u001b[0;34m.\u001b[0m\u001b[0marray\u001b[0m\u001b[0;34m(\u001b[0m\u001b[0;34m[\u001b[0m\u001b[0;36m1.\u001b[0m\u001b[0;34m,\u001b[0m \u001b[0;36m0.55\u001b[0m\u001b[0;34m,\u001b[0m \u001b[0;36m0.3\u001b[0m\u001b[0;34m,\u001b[0m \u001b[0;36m.17\u001b[0m\u001b[0;34m,\u001b[0m \u001b[0;36m0.1\u001b[0m\u001b[0;34m,\u001b[0m \u001b[0;36m0.055\u001b[0m\u001b[0;34m,\u001b[0m \u001b[0;36m0.03\u001b[0m\u001b[0;34m,\u001b[0m \u001b[0;36m0.017\u001b[0m\u001b[0;34m,\u001b[0m \u001b[0;36m0.01\u001b[0m\u001b[0;34m]\u001b[0m\u001b[0;34m)\u001b[0m\u001b[0;34m\u001b[0m\u001b[0m\n\u001b[0;32m---> 77\u001b[0;31m \u001b[0merr\u001b[0m \u001b[0;34m=\u001b[0m \u001b[0merror\u001b[0m\u001b[0;34m(\u001b[0m\u001b[0mp\u001b[0m\u001b[0;34m,\u001b[0m \u001b[0mp_prime\u001b[0m\u001b[0;34m,\u001b[0m \u001b[0mh\u001b[0m\u001b[0;34m,\u001b[0m \u001b[0;36m2.0\u001b[0m\u001b[0;34m)\u001b[0m\u001b[0;34m\u001b[0m\u001b[0m\n\u001b[0m\u001b[1;32m     78\u001b[0m \u001b[0;34m\u001b[0m\u001b[0m\n\u001b[1;32m     79\u001b[0m \u001b[0mbx\u001b[0m\u001b[0;34m.\u001b[0m\u001b[0mplot\u001b[0m\u001b[0;34m(\u001b[0m\u001b[0mh\u001b[0m\u001b[0;34m,\u001b[0m \u001b[0merr\u001b[0m\u001b[0;34m[\u001b[0m\u001b[0;36m0\u001b[0m\u001b[0;34m]\u001b[0m\u001b[0;34m,\u001b[0m \u001b[0mlabel\u001b[0m\u001b[0;34m=\u001b[0m\u001b[0;34m'Forward'\u001b[0m\u001b[0;34m)\u001b[0m\u001b[0;34m\u001b[0m\u001b[0m\n",
      "\u001b[0;32m<ipython-input-14-2cda680561f3>\u001b[0m in \u001b[0;36merror\u001b[0;34m(f, f_prime, h, x)\u001b[0m\n\u001b[1;32m     19\u001b[0m \u001b[0;34m\u001b[0m\u001b[0m\n\u001b[1;32m     20\u001b[0m     \u001b[0;32mfor\u001b[0m \u001b[0mh_i\u001b[0m \u001b[0;32min\u001b[0m \u001b[0mh\u001b[0m\u001b[0;34m:\u001b[0m\u001b[0;34m\u001b[0m\u001b[0m\n\u001b[0;32m---> 21\u001b[0;31m         \u001b[0mf_error\u001b[0m\u001b[0;34m=\u001b[0m\u001b[0mf_error\u001b[0m\u001b[0;34m.\u001b[0m\u001b[0mappend\u001b[0m\u001b[0;34m(\u001b[0m\u001b[0mf_error\u001b[0m\u001b[0;34m,\u001b[0m\u001b[0mY_correct\u001b[0m\u001b[0;34m-\u001b[0m\u001b[0mforward_diff\u001b[0m\u001b[0;34m(\u001b[0m\u001b[0mf\u001b[0m\u001b[0;34m,\u001b[0m \u001b[0mh_i\u001b[0m\u001b[0;34m,\u001b[0m \u001b[0mx\u001b[0m\u001b[0;34m)\u001b[0m\u001b[0;34m)\u001b[0m\u001b[0;34m\u001b[0m\u001b[0m\n\u001b[0m\u001b[1;32m     22\u001b[0m         \u001b[0mb_error\u001b[0m\u001b[0;34m=\u001b[0m\u001b[0mb_error\u001b[0m\u001b[0;34m.\u001b[0m\u001b[0mappend\u001b[0m\u001b[0;34m(\u001b[0m\u001b[0mb_error\u001b[0m\u001b[0;34m,\u001b[0m\u001b[0mY_correct\u001b[0m\u001b[0;34m-\u001b[0m\u001b[0mbackward_diff\u001b[0m\u001b[0;34m(\u001b[0m\u001b[0mf\u001b[0m\u001b[0;34m,\u001b[0m \u001b[0mh_i\u001b[0m\u001b[0;34m,\u001b[0m \u001b[0mx\u001b[0m\u001b[0;34m)\u001b[0m\u001b[0;34m)\u001b[0m\u001b[0;34m\u001b[0m\u001b[0m\n\u001b[1;32m     23\u001b[0m         \u001b[0mc_error\u001b[0m\u001b[0;34m=\u001b[0m\u001b[0mc_error\u001b[0m\u001b[0;34m.\u001b[0m\u001b[0mappend\u001b[0m\u001b[0;34m(\u001b[0m\u001b[0mc_error\u001b[0m\u001b[0;34m,\u001b[0m\u001b[0mY_correct\u001b[0m\u001b[0;34m-\u001b[0m\u001b[0mcentral_diff\u001b[0m\u001b[0;34m(\u001b[0m\u001b[0mf\u001b[0m\u001b[0;34m,\u001b[0m \u001b[0mh_i\u001b[0m\u001b[0;34m,\u001b[0m \u001b[0mx\u001b[0m\u001b[0;34m)\u001b[0m\u001b[0;34m)\u001b[0m\u001b[0;34m\u001b[0m\u001b[0m\n",
      "\u001b[0;31mAttributeError\u001b[0m: 'numpy.ndarray' object has no attribute 'append'"
     ]
    },
    {
     "data": {
      "image/png": "[encoded data removed]",
      "text/plain": [
       "<Figure size 432x288 with 1 Axes>"
      ]
     },
     "metadata": {
      "needs_background": "light"
     },
     "output_type": "display_data"
    },
    {
     "data": {
      "image/png": "[encoded data removed]",
      "text/plain": [
       "<Figure size 432x288 with 1 Axes>"
      ]
     },
     "metadata": {
      "needs_background": "light"
     },
     "output_type": "display_data"
    },
    {
     "data": {
      "image/png": "[encoded data removed]",
      "text/plain": [
       "<Figure size 432x288 with 1 Axes>"
      ]
     },
     "metadata": {
      "needs_background": "light"
     },
     "output_type": "display_data"
    },
    {
     "data": {
      "image/png": "[encoded data removed]",
      "text/plain": [
       "<Figure size 432x288 with 1 Axes>"
      ]
     },
     "metadata": {
      "needs_background": "light"
     },
     "output_type": "display_data"
    },
    {
     "data": {
      "image/png": "[encoded data removed]",
      "text/plain": [
       "<Figure size 432x288 with 1 Axes>"
      ]
     },
     "metadata": {
      "needs_background": "light"
     },
     "output_type": "display_data"
    }
   ],
   "source": [
    "fig, ax = plt.subplots()\n",
    "ax.axhline(y=0, color='k')\n",
    "\n",
    "p = Polynomial([2.0, 1.0, -6.0, -2.0, 2.5, 1.0])\n",
    "data = p.linspace(domain=[-2.4, 1.5])\n",
    "ax.plot(data[0], data[1], label='Function')\n",
    "\n",
    "p_prime = p.deriv(1)\n",
    "data2 = p_prime.linspace(domain=[-2.4, 1.5])\n",
    "ax.plot(data2[0], data2[1], label='Derivative')\n",
    "\n",
    "ax.legend()\n",
    "\n",
    "##################################\n",
    "\n",
    "h = 1\n",
    "fig, bx = plt.subplots()\n",
    "bx.axhline(y=0, color='k')\n",
    "\n",
    "x = np.linspace(-2.0, 1.3, 50, endpoint=True)\n",
    "y = forward_diff(p, h, x)\n",
    "bx.plot(x, y, label='Forward; h=1')\n",
    "y = backward_diff(p, h, x)\n",
    "bx.plot(x, y, label='Backward; h=1')\n",
    "y = central_diff(p, h, x)\n",
    "bx.plot(x, y, label='Central; h=1')\n",
    "\n",
    "data2 = p_prime.linspace(domain=[-2.0, 1.3])\n",
    "bx.plot(data2[0], data2[1], label='actual')\n",
    "\n",
    "bx.legend()\n",
    "\n",
    "##################################\n",
    "\n",
    "h = 0.1\n",
    "fig, bx = plt.subplots()\n",
    "bx.axhline(y=0, color='k')\n",
    "\n",
    "x = np.linspace(-2.2, 1.3, 50, endpoint=True)\n",
    "y = forward_diff(p, h, x)\n",
    "bx.plot(x, y, label='Forward; h=0.1')\n",
    "y = backward_diff(p, h, x)\n",
    "bx.plot(x, y, label='Backward; h=0.1')\n",
    "y = central_diff(p, h, x)\n",
    "bx.plot(x, y, label='Central; h=0.1')\n",
    "\n",
    "data2 = p_prime.linspace(domain=[-2.2, 1.3])\n",
    "bx.plot(data2[0], data2[1], label='actual')\n",
    "\n",
    "bx.legend()\n",
    "\n",
    "##################################\n",
    "\n",
    "h = 0.01\n",
    "fig, bx = plt.subplots()\n",
    "bx.axhline(y=0, color='k')\n",
    "\n",
    "x = np.linspace(-2.2, 1.3, 50, endpoint=True)\n",
    "y = forward_diff(p, h, x)\n",
    "bx.plot(x, y, label='Forward; h=0.01')\n",
    "y = backward_diff(p, h, x)\n",
    "bx.plot(x, y, label='Backward; h=0.01')\n",
    "y = central_diff(p, h, x)\n",
    "bx.plot(x, y, label='Central; h=0.01')\n",
    "\n",
    "data2 = p_prime.linspace(domain=[-2.2, 1.3])\n",
    "bx.plot(data2[0], data2[1], label='actual')\n",
    "\n",
    "bx.legend()\n",
    "\n",
    "##################################\n",
    "\n",
    "fig, bx = plt.subplots()\n",
    "bx.axhline(y=0, color='k')\n",
    "\n",
    "h = np.array([1., 0.55, 0.3, .17, 0.1, 0.055, 0.03, 0.017, 0.01])\n",
    "err = error(p, p_prime, h, 2.0)\n",
    "\n",
    "bx.plot(h, err[0], label='Forward')\n",
    "bx.plot(h, err[1], label='Backward')\n",
    "bx.plot(h, err[2], label='Central')\n",
    "bx.legend()"
   ]
  }
 ],
 "metadata": {
  "colab": {
   "collapsed_sections": [],
   "name": "Copy of Colab's New Code Editor",
   "provenance": [],
   "toc_visible": true
  },
  "kernelspec": {
   "display_name": "Python 3",
   "language": "python",
   "name": "python3"
  },
  "language_info": {
   "codemirror_mode": {
    "name": "ipython",
    "version": 3
   },
   "file_extension": ".py",
   "mimetype": "text/x-python",
   "name": "python",
   "nbconvert_exporter": "python",
   "pygments_lexer": "ipython3",
   "version": "3.6.4"
  }
 },
 "nbformat": 4,
 "nbformat_minor": 1
}
